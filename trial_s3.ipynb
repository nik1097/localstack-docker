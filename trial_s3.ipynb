{
 "cells": [
  {
   "cell_type": "code",
   "execution_count": 5,
   "metadata": {},
   "outputs": [],
   "source": [
    "import boto3\n",
    "from botocore.exceptions import ClientError\n",
    "import os"
   ]
  },
  {
   "cell_type": "code",
   "execution_count": 6,
   "metadata": {},
   "outputs": [],
   "source": [
    "AWS_REGION = 'us-east-1'\n",
    "AWS_PROFILE = 'localstack'\n",
    "ENDPOINT_URL = 'http://localhost:4566/'\n",
    "boto3.setup_default_session(profile_name=AWS_PROFILE)"
   ]
  },
  {
   "cell_type": "code",
   "execution_count": 7,
   "metadata": {},
   "outputs": [],
   "source": [
    "localstack_client = boto3.client(\"s3\", region_name=AWS_REGION, endpoint_url=ENDPOINT_URL)\n",
    "localstack_resource = boto3.resource(\"s3\", region_name=AWS_REGION, endpoint_url=ENDPOINT_URL)"
   ]
  },
  {
   "cell_type": "code",
   "execution_count": 6,
   "metadata": {},
   "outputs": [],
   "source": [
    "bucket_name = 'testbucket'\n",
    "response = localstack_client.create_bucket(Bucket = bucket_name)"
   ]
  },
  {
   "cell_type": "code",
   "execution_count": 8,
   "metadata": {},
   "outputs": [
    {
     "name": "stdout",
     "output_type": "stream",
     "text": [
      "s3.Bucket(name='testbucket')\n"
     ]
    }
   ],
   "source": [
    "response = localstack_resource.buckets.all()\n",
    "for i in response:\n",
    "    print(i)"
   ]
  },
  {
   "cell_type": "code",
   "execution_count": 9,
   "metadata": {},
   "outputs": [],
   "source": [
    "file_name = 'Nikhil Resume.pdf'\n",
    "object_name = os.path.basename(file_name)\n",
    "response = localstack_resource.upload_file(file_name, bucket_name, object_name)"
   ]
  },
  {
   "cell_type": "code",
   "execution_count": 14,
   "metadata": {},
   "outputs": [],
   "source": [
    "response = localstack_resource.Bucket(bucket_name).download_file(object_name, file_name)"
   ]
  },
  {
   "cell_type": "code",
   "execution_count": null,
   "metadata": {},
   "outputs": [],
   "source": []
  }
 ],
 "metadata": {
  "interpreter": {
   "hash": "398242da3464dfc4e90fd8efcbbb5b4bacb91b3ae3646b4aa96e508f1d34b184"
  },
  "kernelspec": {
   "display_name": "Python 3.10.4 ('localstack')",
   "language": "python",
   "name": "python3"
  },
  "language_info": {
   "codemirror_mode": {
    "name": "ipython",
    "version": 3
   },
   "file_extension": ".py",
   "mimetype": "text/x-python",
   "name": "python",
   "nbconvert_exporter": "python",
   "pygments_lexer": "ipython3",
   "version": "3.10.4"
  },
  "orig_nbformat": 4
 },
 "nbformat": 4,
 "nbformat_minor": 2
}
