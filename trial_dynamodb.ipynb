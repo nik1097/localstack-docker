{
 "cells": [
  {
   "cell_type": "code",
   "execution_count": 14,
   "metadata": {},
   "outputs": [],
   "source": [
    "import json\n",
    "import logging\n",
    "from datetime import date, datetime\n",
    "import os\n",
    "\n",
    "import boto3\n",
    "from botocore.exceptions import ClientError"
   ]
  },
  {
   "cell_type": "code",
   "execution_count": 15,
   "metadata": {},
   "outputs": [],
   "source": [
    "AWS_REGION = 'us-east-1'\n",
    "AWS_PROFILE = 'localstack'\n",
    "ENDPOINT_URL = 'http://localhost:4566/'"
   ]
  },
  {
   "cell_type": "code",
   "execution_count": 16,
   "metadata": {},
   "outputs": [],
   "source": [
    "boto3.setup_default_session(profile_name=AWS_PROFILE)\n",
    "localstack_client = boto3.client(\"dynamodb\", region_name=AWS_REGION, endpoint_url=ENDPOINT_URL)\n",
    "localstack_resource = boto3.resource(\"dynamodb\", region_name=AWS_REGION, endpoint_url=ENDPOINT_URL)"
   ]
  },
  {
   "cell_type": "code",
   "execution_count": 17,
   "metadata": {},
   "outputs": [],
   "source": [
    "def json_datetime_serializer(obj):\n",
    "    if isinstance(obj, (datetime, date)):\n",
    "        return obj.isoformat()\n",
    "    raise TypeError(\"Type %s not serializable\" % type(obj))"
   ]
  },
  {
   "cell_type": "markdown",
   "metadata": {},
   "source": [
    "### Creating a new Table"
   ]
  },
  {
   "cell_type": "code",
   "execution_count": 18,
   "metadata": {},
   "outputs": [],
   "source": [
    "table_name = 'test_table'"
   ]
  },
  {
   "cell_type": "code",
   "execution_count": 21,
   "metadata": {},
   "outputs": [
    {
     "name": "stdout",
     "output_type": "stream",
     "text": [
      "Table already exists\n"
     ]
    }
   ],
   "source": [
    "try:\n",
    "    response = localstack_client.create_table(\n",
    "        TableName=table_name,\n",
    "        KeySchema=[\n",
    "            {\n",
    "                'AttributeName': 'Name',\n",
    "                'KeyType': 'HASH' # partition key\n",
    "            },\n",
    "            {\n",
    "                'AttributeName': 'Email',\n",
    "                'KeyType': 'RANGE' # sort key \n",
    "            }\n",
    "        ],\n",
    "        AttributeDefinitions=[\n",
    "            {\n",
    "                'AttributeName': 'Name',\n",
    "                'AttributeType': 'S'\n",
    "            },\n",
    "            {\n",
    "                'AttributeName': 'Email',\n",
    "                'AttributeType': 'S'\n",
    "            }\n",
    "        ],\n",
    "        ProvisionedThroughput={\n",
    "            'ReadCapacityUnits': 1,\n",
    "            'WriteCapacityUnits': 1\n",
    "        },\n",
    "        Tags=[\n",
    "            {\n",
    "                'Key': 'Name',\n",
    "                'Value': 'dynamodb-table'\n",
    "            }\n",
    "        ])\n",
    "except:\n",
    "    print('Table already exists')\n",
    "    "
   ]
  },
  {
   "cell_type": "markdown",
   "metadata": {},
   "source": [
    "### Adding records to the Table"
   ]
  },
  {
   "cell_type": "code",
   "execution_count": 22,
   "metadata": {},
   "outputs": [],
   "source": [
    "table = localstack_resource.Table(table_name)\n",
    "response = table.put_item(\n",
    "    Item={\n",
    "        'Name': 'Nikhil',\n",
    "        'Email': 'nsc@abc.edu'\n",
    "    }\n",
    ")"
   ]
  },
  {
   "cell_type": "markdown",
   "metadata": {},
   "source": [
    "### Reading data from the Table"
   ]
  },
  {
   "cell_type": "code",
   "execution_count": 23,
   "metadata": {},
   "outputs": [],
   "source": [
    "table = localstack_resource.Table(table_name)\n",
    "response = table.get_item(\n",
    "    Key={\n",
    "        'Name': 'Nikhil',\n",
    "        'Email': 'nsc@abc.edu'\n",
    "    }\n",
    ")"
   ]
  },
  {
   "cell_type": "code",
   "execution_count": null,
   "metadata": {},
   "outputs": [],
   "source": []
  }
 ],
 "metadata": {
  "interpreter": {
   "hash": "398242da3464dfc4e90fd8efcbbb5b4bacb91b3ae3646b4aa96e508f1d34b184"
  },
  "kernelspec": {
   "display_name": "Python 3.10.4 ('localstack')",
   "language": "python",
   "name": "python3"
  },
  "language_info": {
   "codemirror_mode": {
    "name": "ipython",
    "version": 3
   },
   "file_extension": ".py",
   "mimetype": "text/x-python",
   "name": "python",
   "nbconvert_exporter": "python",
   "pygments_lexer": "ipython3",
   "version": "3.10.4"
  },
  "orig_nbformat": 4
 },
 "nbformat": 4,
 "nbformat_minor": 2
}
